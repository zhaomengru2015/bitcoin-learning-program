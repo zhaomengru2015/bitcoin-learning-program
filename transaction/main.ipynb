{
 "cells": [
  {
   "cell_type": "markdown",
   "metadata": {
    "collapsed": true
   },
   "source": [
    "## Transaction\n",
    "一个transaction由四部分组成：version，inputs，outputs，locktime\n",
    "### varint\n",
    "可变的长度\n",
    "<253, 1 byte\n",
    "253~2¹⁶-1, 2 bytes, 0xfd+（2字节长度）\n",
    "2¹⁶~2³²-1, 4 bytes, 0xfe+(4字节长度) \n",
    "2³² ~ 2⁶⁴-1, 8 bytes, 0xff+(8字节长度)\n",
    "### Sequence and Locktime\n",
    "\n",
    "### Version\n",
    "OP_CHECKSEQUENCEVERIFY： version >1\n",
    "### Inputs\n",
    "1. previous tx id\n",
    "2. previous tx index\n",
    "3. scriptSig\n",
    "4. sequence\n",
    "### Outputs\n",
    "### Locktime\n"
   ]
  }
 ],
 "metadata": {
  "kernelspec": {
   "display_name": "Python 3 (ipykernel)",
   "language": "python",
   "name": "python3"
  },
  "language_info": {
   "codemirror_mode": {
    "name": "ipython",
    "version": 3
   },
   "file_extension": ".py",
   "mimetype": "text/x-python",
   "name": "python",
   "nbconvert_exporter": "python",
   "pygments_lexer": "ipython3",
   "version": "3.9.9"
  }
 },
 "nbformat": 4,
 "nbformat_minor": 1
}