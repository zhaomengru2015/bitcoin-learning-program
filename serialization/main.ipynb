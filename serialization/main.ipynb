{
 "cells": [
  {
   "cell_type": "markdown",
   "metadata": {
    "collapsed": true,
    "pycharm": {
     "name": "#%% md\n"
    }
   },
   "source": [
    "## SEC Serialization\n",
    "public key(S256Point) 是椭圆曲线上的一个点，序列化的标准为SEC（Standard for Efficient Cryptography），SEC有两种格式：压缩和非压缩。\n",
    "### Uncompressed\n",
    "1. prefix 0x04\n",
    "2. x轴，32字节，大端\n",
    "3. y轴，32字节，大端\n",
    "### Compressed\n",
    "1. prefix 0x02(y为偶数)|0x03(y为奇数)\n",
    "2. x轴，32字节，大端\n",
    "对于给定的x，满足y和p-y在椭圆曲线上。p是一个大于2的质数，所以p是奇数，所以y和p-y一奇一偶。\n",
    "## DER Signatures\n",
    "1. prefix 0x30\n",
    "2. length of rest\n",
    "3. 0x02\n",
    "4. r的长度，r, 大端，如果第一个字节大于0x80，则添加前缀0x00\n",
    "5. 0x02\n",
    "6. s的长度，s，大端，如果第一个字节大于0x80，则添加前缀0x00\n",
    "## Address\n",
    "1. prefix 0x00(mainnet), 0x6f(testnet)\n",
    "2. hash160(SEC)\n",
    "3. #1+#2\n",
    "4. hash160(#3) 取前4个字节\n",
    "5. base58（#3+4）\n",
    "## WIF Format\n"
   ],
   "outputs": []
  },
  {
   "cell_type": "markdown",
   "source": [
    "1. prefix 0x80(mainnet), 0xef(testnet)\n",
    "2. secret key 大端存储\n",
    "3. 如果pub key 的SEC是compressed，添加后缀0x01\n",
    "4. #1|#2|#3\n",
    "5. encode_base58_checksum(#4)\n"
   ],
   "metadata": {
    "collapsed": false,
    "pycharm": {
     "name": "#%% md\n"
    }
   }
  }
 ],
 "metadata": {
  "kernelspec": {
   "display_name": "Python 3 (ipykernel)",
   "language": "python",
   "name": "python3"
  },
  "language_info": {
   "codemirror_mode": {
    "name": "ipython",
    "version": 3
   },
   "file_extension": ".py",
   "mimetype": "text/x-python",
   "name": "python",
   "nbconvert_exporter": "python",
   "pygments_lexer": "ipython3",
   "version": "3.9.9"
  }
 },
 "nbformat": 4,
 "nbformat_minor": 1
}