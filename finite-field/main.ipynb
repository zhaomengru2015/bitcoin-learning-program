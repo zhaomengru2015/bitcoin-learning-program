{
 "cells": [
  {
   "cell_type": "markdown",
   "metadata": {},
   "source": [
    "## 有限域\n",
    "### 定义\n",
    "有限域包含有限的数据集以及+和*操作，并且满足：\n",
    "1. 如果a，b属于有限域，则a+b，a*b也属于有限域\n",
    "2. 0+a=a，1*a=a，a ⋅ a–1 = 1,a+(-a)=0\n",
    "比如：{0,1,2} 就不是一个有限域，{–1,0,1} 是一个有限域\n",
    "p定义为有限域的边界，Fp = {0, 1, 2, ... p–1}， 比如F11 = {0, 1, 2, 3, 4, 5, 6, 7, 8, 9, 10}\n",
    "3.除法运算\n",
    "a/b = a⋅f(1/b) = a⋅f(b**-1)\n",
    "b**(p-1) = 1\n",
    "b**-1 = (b**-1)⋅1=(b**-1)*(b**p-1) = b**(p-2)\n",
    "也就是说：\n",
    "在F19中，b**(-1)=b**(17),b**(18)=1\n"
   ]
  },
  {
   "cell_type": "code",
   "execution_count": 23,
   "metadata": {},
   "outputs": [
    {
     "name": "stdout",
     "output_type": "stream",
     "text": [
      "a+b==c: True\n",
      "a-b==c: False\n",
      "a*b==c: True\n",
      "a**3==b: True\n",
      "2/7=FiniteElement_19_3\n",
      "7/5=FiniteElement_19_9\n"
     ]
    }
   ],
   "source": [
    "class FiniteElement:\n",
    "    def __init__(self,num,prime):\n",
    "        self.num=num\n",
    "        self.prime=prime\n",
    "    def __repr__(self):\n",
    "        return f'FiniteElement_{self.prime}_{self.num}'\n",
    "    def __eq__(self,other):\n",
    "        return True if self.num==other.num and self.prime==other.prime else False\n",
    "    def __ne__(self,other):\n",
    "        return True if self.num != other.num or self.prime != other.prime else False\n",
    "    def __add__(self,other):\n",
    "        num = (self.num+other.num)%self.prime\n",
    "        return self.__class__(num=num,prime=self.prime)\n",
    "    def __sub__(self,other):\n",
    "        num = (self.num-other.num)%self.prime\n",
    "        return self.__class__(num=num,prime=self.prime)\n",
    "    def __mul__(self,other):\n",
    "        num = (self.num*other.num)%self.prime\n",
    "        return self.__class__(num=num,prime=self.prime)\n",
    "    def __pow__(self,exponent):\n",
    "        num = (self.num**exponent)%self.prime\n",
    "        return self.__class__(num=num,prime=self.prime)\n",
    "    def __truediv__(self,other):\n",
    "        num = self.num*pow(other.num,self.prime-2,self.prime)%self.prime\n",
    "        return self.__class__(num=num,prime=self.prime)\n",
    "    \n",
    "\n",
    "a=FiniteElement(7,13)\n",
    "b=FiniteElement(12,13)\n",
    "c=FiniteElement(6,13)\n",
    "d=FiniteElement(7,14)\n",
    "print(\"a+b==c: {}\".format(a+b==c))\n",
    "print(\"a-b==c: {}\".format(a-b==c))\n",
    "a=FiniteElement(3,13)\n",
    "b=FiniteElement(12,13)\n",
    "c=FiniteElement(10,13)\n",
    "print(\"a*b==c: {}\".format(a*b==c))\n",
    "a=FiniteElement(3,13)\n",
    "b=FiniteElement(1,13)\n",
    "print(\"a**3==b: {}\".format(a**3==b))\n",
    "a=FiniteElement(2,19)\n",
    "b=FiniteElement(7,19)\n",
    "print(\"2/7={}\".format(a/b))\n",
    "a=FiniteElement(7,19)\n",
    "b=FiniteElement(5,19)\n",
    "print(\"7/5={}\".format(a/b))\n"
   ]
  }
 ],
 "metadata": {
  "kernelspec": {
   "display_name": "Python 3 (ipykernel)",
   "language": "python",
   "name": "python3"
  },
  "language_info": {
   "codemirror_mode": {
    "name": "ipython",
    "version": 3
   },
   "file_extension": ".py",
   "mimetype": "text/x-python",
   "name": "python",
   "nbconvert_exporter": "python",
   "pygments_lexer": "ipython3",
   "version": "3.9.9"
  }
 },
 "nbformat": 4,
 "nbformat_minor": 1
}